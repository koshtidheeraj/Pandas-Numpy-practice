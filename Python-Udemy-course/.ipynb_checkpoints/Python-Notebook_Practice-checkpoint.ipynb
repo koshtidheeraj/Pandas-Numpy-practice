{
 "cells": [
  {
   "cell_type": "code",
   "execution_count": 5,
   "metadata": {},
   "outputs": [
    {
     "name": "stdout",
     "output_type": "stream",
     "text": [
      "dheeraj is good boy\n"
     ]
    }
   ],
   "source": [
    "print('dheeraj {i} {g} {b}'.format(i=\"is\",g=\"good\",b=\"boy\"))"
   ]
  },
  {
   "cell_type": "code",
   "execution_count": 6,
   "metadata": {},
   "outputs": [],
   "source": [
    "result = 100/177"
   ]
  },
  {
   "cell_type": "code",
   "execution_count": 7,
   "metadata": {},
   "outputs": [
    {
     "data": {
      "text/plain": [
       "0.5649717514124294"
      ]
     },
     "execution_count": 7,
     "metadata": {},
     "output_type": "execute_result"
    }
   ],
   "source": [
    "result"
   ]
  },
  {
   "cell_type": "code",
   "execution_count": 10,
   "metadata": {},
   "outputs": [
    {
     "ename": "SyntaxError",
     "evalue": "invalid syntax (<ipython-input-10-674a883ffdce>, line 1)",
     "output_type": "error",
     "traceback": [
      "\u001b[0;36m  File \u001b[0;32m\"<ipython-input-10-674a883ffdce>\"\u001b[0;36m, line \u001b[0;32m1\u001b[0m\n\u001b[0;31m    print(f'result of the operation is {result:1.4f}')\u001b[0m\n\u001b[0m                                                    ^\u001b[0m\n\u001b[0;31mSyntaxError\u001b[0m\u001b[0;31m:\u001b[0m invalid syntax\n"
     ]
    }
   ],
   "source": [
    "print(f'result of the operation is {result:1.4f}')"
   ]
  },
  {
   "cell_type": "code",
   "execution_count": 18,
   "metadata": {},
   "outputs": [],
   "source": [
    "name = 'dheeraj'"
   ]
  },
  {
   "cell_type": "code",
   "execution_count": 19,
   "metadata": {},
   "outputs": [
    {
     "ename": "SyntaxError",
     "evalue": "invalid syntax (<ipython-input-19-95f8a5e97d89>, line 1)",
     "output_type": "error",
     "traceback": [
      "\u001b[0;36m  File \u001b[0;32m\"<ipython-input-19-95f8a5e97d89>\"\u001b[0;36m, line \u001b[0;32m1\u001b[0m\n\u001b[0;31m    print(f'result of the operation is {name}')\u001b[0m\n\u001b[0m                                             ^\u001b[0m\n\u001b[0;31mSyntaxError\u001b[0m\u001b[0;31m:\u001b[0m invalid syntax\n"
     ]
    }
   ],
   "source": [
    "print(f'result of the operation is {name}')"
   ]
  },
  {
   "cell_type": "code",
   "execution_count": 17,
   "metadata": {},
   "outputs": [
    {
     "data": {
      "text/plain": [
       "'dheeraj'"
      ]
     },
     "execution_count": 17,
     "metadata": {},
     "output_type": "execute_result"
    }
   ],
   "source": [
    "name"
   ]
  },
  {
   "cell_type": "code",
   "execution_count": 20,
   "metadata": {},
   "outputs": [
    {
     "ename": "SyntaxError",
     "evalue": "invalid syntax (<ipython-input-20-4022f858977b>, line 2)",
     "output_type": "error",
     "traceback": [
      "\u001b[0;36m  File \u001b[0;32m\"<ipython-input-20-4022f858977b>\"\u001b[0;36m, line \u001b[0;32m2\u001b[0m\n\u001b[0;31m    print(f'result of the operation is {name}')\u001b[0m\n\u001b[0m                                             ^\u001b[0m\n\u001b[0;31mSyntaxError\u001b[0m\u001b[0;31m:\u001b[0m invalid syntax\n"
     ]
    }
   ],
   "source": [
    "name = \"dheeraj\"\n",
    "print(f'result of the operation is {name}')"
   ]
  },
  {
   "cell_type": "code",
   "execution_count": 2,
   "metadata": {},
   "outputs": [],
   "source": [
    "newlist= [1,2,3,4]\n",
    "newlist[0] = 'a'\n",
    "newlist."
   ]
  },
  {
   "cell_type": "code",
   "execution_count": 3,
   "metadata": {},
   "outputs": [
    {
     "data": {
      "text/plain": [
       "['a', 2, 3, 4]"
      ]
     },
     "execution_count": 3,
     "metadata": {},
     "output_type": "execute_result"
    }
   ],
   "source": [
    "newlist"
   ]
  },
  {
   "cell_type": "code",
   "execution_count": 8,
   "metadata": {},
   "outputs": [],
   "source": [
    "def myfunc(x):\n",
    "    mylist = []\n",
    "    for index,char in enumerate(x):\n",
    "        if index%2 == 0:\n",
    "            mylist.append(char.upper())\n",
    "        else:\n",
    "            mylist.append(char.lower())\n",
    "    return convert(mylist)"
   ]
  },
  {
   "cell_type": "raw",
   "metadata": {},
   "source": [
    "myfunc('abcde')"
   ]
  },
  {
   "cell_type": "code",
   "execution_count": null,
   "metadata": {},
   "outputs": [],
   "source": []
  },
  {
   "cell_type": "code",
   "execution_count": 17,
   "metadata": {},
   "outputs": [
    {
     "name": "stdout",
     "output_type": "stream",
     "text": [
      "1\n",
      "2\n",
      "3\n",
      "4\n",
      "5\n",
      "6\n"
     ]
    }
   ],
   "source": [
    "mylist = [1,2,3,4,5,6]\n",
    "def square(num1):\n",
    "    return num1\n",
    "for item in map(square, mylist):  # map will pass item from mylist to square method.\n",
    "    print(item)"
   ]
  },
  {
   "cell_type": "code",
   "execution_count": 18,
   "metadata": {},
   "outputs": [
    {
     "data": {
      "text/plain": [
       "[2, 4, 6]"
      ]
     },
     "execution_count": 18,
     "metadata": {},
     "output_type": "execute_result"
    }
   ],
   "source": [
    "# map works for function which returns value and filter works for function returning boolean value.\n",
    "mylist = [1,2,3,4,5,6]\n",
    "def is_even(num):\n",
    "    return num%2 == 0\n",
    "list(filter(is_even, mylist))"
   ]
  },
  {
   "cell_type": "code",
   "execution_count": null,
   "metadata": {},
   "outputs": [],
   "source": [
    "# def square(num):\n",
    "#     return num*2\n",
    "\n",
    "# We can convertr above function to lambda as below\n",
    "# def square(num):return num*2\n",
    "\n",
    "# no need of return\n",
    "# def square(num):num*2\n",
    "\n",
    "# as we do not need function permanently we replace \"def square\" with lambda.\n",
    "# lambda num:num*2\n"
   ]
  },
  {
   "cell_type": "code",
   "execution_count": 19,
   "metadata": {},
   "outputs": [],
   "source": [
    "# Rules in scope follow below rules.\n",
    "# LEGB\n",
    "\n",
    "# L: Local.\n",
    "# E: variables local in Enclosing scope.\n",
    "# G: Names assigned at the top level of module file. declared global in def .\n",
    "# B: names assigned in Built in names module."
   ]
  },
  {
   "cell_type": "code",
   "execution_count": null,
   "metadata": {},
   "outputs": [],
   "source": [
    "# global keyword will give access to global variable in local scope and\n",
    "# change you make to that variable will affect global value.\n",
    "\n",
    "# it is advisable not to use global keyword. Instead of that, take global variable as parameter to function,\n",
    "# change it and return then assign it back to global variable."
   ]
  },
  {
   "cell_type": "code",
   "execution_count": null,
   "metadata": {},
   "outputs": [],
   "source": [
    "# class object attribubte is written in function defination before and method declaration.\n",
    "# it is kind of static variable.\n",
    "# to access static var use self.<static var name> or <calss_name>.<static_var_name>\n",
    "# for instance variable assign it using self.____ in methid body.\n",
    "# method is function inside class."
   ]
  },
  {
   "cell_type": "markdown",
   "metadata": {},
   "source": []
  },
  {
   "cell_type": "code",
   "execution_count": 24,
   "metadata": {},
   "outputs": [
    {
     "name": "stdout",
     "output_type": "stream",
     "text": [
      "monkey\n",
      "mammel\n",
      "mammel\n",
      "non instance method\n"
     ]
    }
   ],
   "source": [
    "class MyClass():\n",
    "    #static variable\n",
    "    animalType = 'mammel'\n",
    "    \n",
    "    def __init__(self,parameter):\n",
    "        self.param1 = parameter\n",
    "    \n",
    "    def print_variables(self):\n",
    "        print(self.param1)\n",
    "        print(MyClass.animalType)  # 1 way of accessing static variable\n",
    "        print(self.animalType)     # 2 way of accessing static variable\n",
    "    \n",
    "    def nonInstanceMethod():\n",
    "        print('non instance method')\n",
    "        \n",
    "instance = MyClass('monkey')\n",
    "instance.print_variables()\n",
    "\n",
    "#instance.nonInstanceMethod()   we have not used self variable in method parameter list so this methid is not \n",
    "# instance method so we cannot call it on instance. We have to call it on class name.\n",
    "MyClass.nonInstanceMethod()\n",
    "\n"
   ]
  },
  {
   "cell_type": "code",
   "execution_count": null,
   "metadata": {},
   "outputs": [],
   "source": [
    "# to make print function work on object use special function __str__(self).\n",
    "# tpo make len function work on object use special function __len__(self).\n",
    "# del function call removes variable from memory to make it do somethignextra use __del__(self)"
   ]
  },
  {
   "cell_type": "code",
   "execution_count": null,
   "metadata": {},
   "outputs": [],
   "source": [
    "# try:\n",
    "# except <optional error type>:\n",
    "# else: # this will execute if there is no exception\n",
    "# finally: # this will execute always."
   ]
  },
  {
   "cell_type": "raw",
   "metadata": {},
   "source": [
    "# PEP8 - styling convention rules\n",
    "# pylint - check possible error and styling\n",
    "# unittest - testing lib"
   ]
  },
  {
   "cell_type": "raw",
   "metadata": {},
   "source": [
    "# Formatting:\n",
    "# print('dheeraj {} {} {}'.format(\"is\",\"good\",\"boy\"))\n",
    "# Dheeraj is good boy\n",
    "\n",
    "# print('dheeraj {1} {0} {2}'.format(\"is\",\"good\",\"boy\"))\n",
    "# dheeraj good is boy\n",
    "\n",
    "# print('dheeraj {i} {g} {b}'.format(i=\"is\",g=\"good\",b=\"boy\"))\n",
    "# dheeraj is good boy\n",
    "\n",
    "# Float formatting:\n",
    "# print('result of the operation is {r:1.4f}'.format(r=result))\n",
    "# result of the operation is 0.5650\n",
    "\n",
    "# Fstring\n",
    "# name = \"dheeraj\"\n",
    "# print(f'result of the operation is {name}')\n",
    "\n",
    "# List\n",
    "# Ordered list of varied objects.\n",
    "# We can add 2 lists by + symbol.\n",
    "# We can append to list\n",
    "# We can pop item at any index.\n",
    "# List is mutable i.e. we can change item at any index.\n",
    "# String is immutable i.e. we cannot change character at any index.\n",
    "# When we call sort, reverse function then it does not return anything, it sorts/reverses list inplace.\n",
    "# Newlist = [......]\n",
    "\n",
    "# Dictionaries:\n",
    "# It is unordered mapping of stored objects.\n",
    "# Unordered and cannot be sorted.\n",
    "# We can get list of keys, values, items using proper function call.\n",
    "# We can add value of any type.\n",
    "# Newdict ={key1:value1, key2:value2}\n",
    "\n",
    "# Tuples:\n",
    "# They are immutable lists and written in ().\n",
    "# It is ordered.\n",
    "# Count function = gives count of letter given as parameter.\n",
    "# Index function = index at which character given as parameter.\n",
    "# Newtyple = (.......)\n",
    "\n",
    "# Sets:\n",
    "# Unordered collection of unique elements.\n",
    "# If we pass list as a parameter to set function it returns set of unique elements.\n",
    "# Newset = {......}\n",
    "\n",
    "# Booleans:\n",
    "# True, False [remember capital letter]\n",
    "\n",
    "# Basic Practice:\n",
    "# http://codingbat.com/python\n",
    "# More Mathematical (and Harder) Practice:\n",
    "# https://projecteuler.net/archives\n",
    "# List of Practice Problems:\n",
    "# http://www.codeabbey.com/index/task_list\n",
    "# A SubReddit Devoted to Daily Practice Problems:\n",
    "# https://www.reddit.com/r/dailyprogrammer\n",
    "# A very tricky website with very few hints and touch problems (Not for beginners but still interesting)\n",
    "# http://www.pythonchallenge.com/\n",
    " \n",
    "# Comparison:\n",
    "# 3.0 == 3 is True\n",
    "# 4**0.5=2 is square root.\n",
    " \n",
    "# If:\n",
    "# Elif:\n",
    "# Else:\n",
    " \n",
    "# For <item> in <iterable_object>\n",
    " \n",
    "# For _ in <iterable_object>  // this is used when item in object is not used in loop body\n",
    " \n",
    "# Mylist = [(1,2),(3,4),(5,6)]\n",
    "# For (a,b) in mylist:        // This is special power in tuple. We can extract read in terms tuple\n",
    "# \tprint(a)\n",
    "# \tprint(b)\n",
    " \n",
    "# Looping through dictionary\n",
    "# Dict = {‘k1’:1,’k2’:2}\n",
    "# For item in dict:       // This will loop though keys\n",
    "# \tprint(item)    \n",
    "# For key,value in dict.items():      // This will loop through each key-value pair\n",
    "# \tprint(key)    \n",
    "# For value in dict.values():\n",
    "# \tprint(value)\t\t   // this eill loop through values.\n",
    " \n",
    " \n",
    " \n",
    "# Dictionaries are unordered so when you loop through it there is no guarantee of order\n",
    " \n",
    " \n",
    "# While <condition>:\n",
    "# \tBody\n",
    "# Else:\n",
    "# \tBody code when condition does not hold true.\n",
    " \n",
    " \n",
    "# Pass: It is used as a placeholder . Where python expect some code but we are not ready with code so to avoid compilation error we write ‘pass’ just to avoid compilation error.\n",
    " \n",
    " \n",
    "# For num in range(0,10,2):\n",
    "# \tprint(num)   // print numbers starting from 0 to 10 with step size of 2 i.e. 0,2,4,6,8,\n",
    " \n",
    "# For item in enumerate(‘abcde’)\n",
    "# \tprint(item)  // it prints (0,a),(1,b),(2,c),(3,d),(4,e)  i.e. it prints along with item.\n",
    " \n",
    " \n",
    "# Mylist1 = [1,2,3,4,5,6]\n",
    "# Mylist2 = [‘a’,b’’,’c’]\n",
    "# Mylist3 = [100,200,300]\n",
    "# For item in zip(Mylist1,Mylist2,Mylist3):\n",
    "# \tprint (item)    // Here output will be (1,a,100)(2,b,200)(3,c,300)\n",
    " \n",
    " \n",
    "# In -> keyword to check if item exist in iteratable object\n",
    " \n",
    "# Mystring = ‘abcde’\n",
    "# Mylist = [x for x in mystring]   // This will output [‘a’,’b’,’c’,’d’,’e’]\n",
    " \n",
    "# List comprehensions:\n",
    "# Mylist = [x for x in range(0,11)  if x%2 == 0]   // This will output [0,2,4,6,8,10]\n",
    " \n",
    "# For if ...elif there is different provision\n",
    "# Mylist [x if x%2 == 0 else ‘odd’ for x in range(0,11)]   // This wil output 0,odd,2,odd,4,odd,6,odd,8,odd,10\n",
    " \n",
    "# For nested loop you can write as below\n",
    "# [x*y for x in (1,2,3) for y in (100,200,300)]\n",
    "# // output of this will be [100,200,300,200,400,600,300,600,900]\n",
    " \n",
    " \n",
    "# The string in  ‘’’ ….. ‘’’ which is at the start of function is help string.\n",
    " \n",
    " \n",
    " \n",
    "# *Args: return tuple\n",
    "# Def myfunc(*args):\n",
    "# \tFor item in args:\n",
    "# \t\tprint(item)\n",
    " \n",
    "# **kwargs: return dictionary\n",
    "# Def myfunc(**kwargs):\n",
    "# \tprint(kwargs)\n",
    "# If we call myfunc(key1=’value1’, key2=’value2’) then we get output as {‘key1’:’value1’,’key2’:’value2’}\n",
    " \n",
    " \n",
    "# ‘’.join.([‘a’,’b’,’c’])\n",
    "# Here output will be ‘abc’\n",
    " \n",
    "# ‘0000’.join([‘a’,’b’,’c’]])    /// 0000 is used as filler between characters in list\n",
    "# Here output will be a0000b0000c\n"
   ]
  },
  {
   "cell_type": "code",
   "execution_count": 4,
   "metadata": {},
   "outputs": [
    {
     "name": "stdout",
     "output_type": "stream",
     "text": [
      "decorator precode\n",
      "original code\n",
      "decorator postcode\n"
     ]
    }
   ],
   "source": [
    "def new_decorator(func):\n",
    "    def internal_func():\n",
    "        print('decorator precode')\n",
    "        func()\n",
    "        print('decorator postcode')\n",
    "    return internal_func\n",
    "\n",
    "@new_decorator   # This is decorator\n",
    "def original_code():\n",
    "    print('original code')\n",
    "\n",
    "# new_decorator(original_code)()  this should be call without decorator\n",
    "original_code()  # this is the call with decorator. IN case we do not want decorator to be called just comment\n",
    "                 # out @new_decorator"
   ]
  },
  {
   "cell_type": "code",
   "execution_count": 5,
   "metadata": {},
   "outputs": [
    {
     "name": "stdout",
     "output_type": "stream",
     "text": [
      "0\n",
      "1\n",
      "8\n",
      "27\n",
      "64\n"
     ]
    }
   ],
   "source": [
    "#generator will return values as and when they are created. It does not store all values in memory.\n",
    "\n",
    "def simple_gen():\n",
    "    for x in range(5):\n",
    "        yield x**3\n",
    "\n",
    "for num in simple_gen():\n",
    "    print(num)"
   ]
  },
  {
   "cell_type": "code",
   "execution_count": 7,
   "metadata": {},
   "outputs": [
    {
     "data": {
      "text/plain": [
       "[0, 1, 8, 27, 64]"
      ]
     },
     "execution_count": 7,
     "metadata": {},
     "output_type": "execute_result"
    }
   ],
   "source": [
    "simple_gen() # This will not return results. It will only generate iterable.\n",
    "\n",
    "g = simple_gen() # here g is iterable.\n",
    "list(g)  # list call will iterate through iterable "
   ]
  },
  {
   "cell_type": "code",
   "execution_count": 10,
   "metadata": {},
   "outputs": [
    {
     "data": {
      "text/plain": [
       "Counter({0: 1, 1: 1, 2: 3, 3: 2, 4: 1, 5: 4, 6: 1, 7: 3, 8: 2, 9: 1})"
      ]
     },
     "execution_count": 10,
     "metadata": {},
     "output_type": "execute_result"
    }
   ],
   "source": [
    "#Counter is function call which gives occurence of each element in list\n",
    "from collections import Counter\n",
    "l = [1,2,5,5,3,4,3,2,6,7,8,9,5,2,0,8,7,5,7]\n",
    "Counter(l)"
   ]
  },
  {
   "cell_type": "code",
   "execution_count": 23,
   "metadata": {},
   "outputs": [
    {
     "data": {
      "text/plain": [
       "0"
      ]
     },
     "execution_count": 23,
     "metadata": {},
     "output_type": "execute_result"
    }
   ],
   "source": [
    "#default dictionary: It gives default value for non initialized values.\n",
    "# In below example default value will be 0 as int has default value 0;\n",
    "from collections import defaultdict\n",
    "d = defaultdict(int)\n",
    "d['one'] = 1\n",
    "d['two']"
   ]
  },
  {
   "cell_type": "code",
   "execution_count": 29,
   "metadata": {},
   "outputs": [
    {
     "ename": "NameError",
     "evalue": "name 'd2' is not defined",
     "output_type": "error",
     "traceback": [
      "\u001b[0;31m---------------------------------------------------------------------------\u001b[0m",
      "\u001b[0;31mNameError\u001b[0m                                 Traceback (most recent call last)",
      "\u001b[0;32m<ipython-input-29-0269f92dcc53>\u001b[0m in \u001b[0;36m<module>\u001b[0;34m\u001b[0m\n\u001b[1;32m      4\u001b[0m \u001b[0md1\u001b[0m \u001b[0;34m=\u001b[0m \u001b[0mOrderedDict\u001b[0m\u001b[0;34m(\u001b[0m\u001b[0;34m)\u001b[0m\u001b[0;34m\u001b[0m\u001b[0m\n\u001b[1;32m      5\u001b[0m \u001b[0md1\u001b[0m\u001b[0;34m[\u001b[0m\u001b[0;34m'a'\u001b[0m\u001b[0;34m]\u001b[0m \u001b[0;34m=\u001b[0m \u001b[0;36m1\u001b[0m\u001b[0;34m\u001b[0m\u001b[0m\n\u001b[0;32m----> 6\u001b[0;31m \u001b[0md2\u001b[0m\u001b[0;34m[\u001b[0m\u001b[0;34m'b'\u001b[0m\u001b[0;34m]\u001b[0m \u001b[0;34m=\u001b[0m \u001b[0;36m2\u001b[0m\u001b[0;34m\u001b[0m\u001b[0m\n\u001b[0m\u001b[1;32m      7\u001b[0m \u001b[0;34m\u001b[0m\u001b[0m\n\u001b[1;32m      8\u001b[0m \u001b[0;31m# d2 = OrderedDict()\u001b[0m\u001b[0;34m\u001b[0m\u001b[0;34m\u001b[0m\u001b[0m\n",
      "\u001b[0;31mNameError\u001b[0m: name 'd2' is not defined"
     ]
    }
   ],
   "source": [
    "# OrderedDict : Normal dict does not remember order in which ekements are entered.\n",
    "# This dict remembers order of members entered\n",
    "from collections import OrderedDict\n",
    "d1 = OrderedDict()\n",
    "d1['a'] = 1\n",
    "d2['b'] = 2\n",
    "\n",
    "d2 = OrderedDict()\n",
    "d2['b'] = 2\n",
    "d2['a'] = 1\n",
    "\n",
    "# Here even if key valy pair are same order is different so eqality check will be Fales."
   ]
  },
  {
   "cell_type": "code",
   "execution_count": 42,
   "metadata": {},
   "outputs": [
    {
     "name": "stdout",
     "output_type": "stream",
     "text": [
      "tup(age=2, breed='lab')\n",
      "lab\n",
      "2\n"
     ]
    }
   ],
   "source": [
    "from collections import namedtuple\n",
    "\n",
    "tup = namedtuple('tup', 'age breed')\n",
    "tupu = tup(age=2, breed='lab'), tup(age=3, breed='pam')# tup:classname, 'age breed':attributes\n",
    "\n",
    "print(tupu[0])\n",
    "print(tupu[0][1])\n",
    "print(tupu[0].age)"
   ]
  },
  {
   "cell_type": "raw",
   "metadata": {},
   "source": [
    "import pdb\n",
    "pdb.set_trace() \n",
    "\n",
    "# This acts as a breakpoint."
   ]
  },
  {
   "cell_type": "code",
   "execution_count": 48,
   "metadata": {},
   "outputs": [
    {
     "data": {
      "text/plain": [
       "0.028790444004698656"
      ]
     },
     "execution_count": 48,
     "metadata": {},
     "output_type": "execute_result"
    }
   ],
   "source": [
    "#timeit: this will give time to execute an expression given as first parameter.\n",
    "\n",
    "# we  need to calculate time taken to execute below statement\n",
    "#'-'.join(str(n) for n in range(100))\n",
    "\n",
    "import timeit\n",
    "timeit.timeit('\"-\".join(str(n) for n in range(100))', number=500) # 500 is number of times the above expression should be executed"
   ]
  },
  {
   "cell_type": "raw",
   "metadata": {},
   "source": [
    "#regular expression\n",
    "re.search(<pattern>,<text to be searched for pattern>)"
   ]
  },
  {
   "cell_type": "raw",
   "metadata": {},
   "source": [
    "stringIO is module which convert string to a file object and we can call functions\n",
    "which can be called on file object."
   ]
  },
  {
   "cell_type": "code",
   "execution_count": null,
   "metadata": {},
   "outputs": [],
   "source": [
    "#check what is list and dictionary comprehension"
   ]
  },
  {
   "cell_type": "code",
   "execution_count": 56,
   "metadata": {},
   "outputs": [
    {
     "data": {
      "application/vnd.jupyter.widget-view+json": {
       "model_id": "8fc56e3dfc40480ea3d5178c585f7f6b",
       "version_major": 2,
       "version_minor": 0
      },
      "text/plain": [
       "interactive(children=(FloatSlider(value=-0.10000000000000009, description='x', max=2.0, min=-2.2), Output()), …"
      ]
     },
     "metadata": {},
     "output_type": "display_data"
    },
    {
     "data": {
      "text/plain": [
       "<function __main__.func(x)>"
      ]
     },
     "execution_count": 56,
     "metadata": {},
     "output_type": "execute_result"
    }
   ],
   "source": [
    "from ipywidgets import interact\n",
    "\n",
    "def func(x):\n",
    "    return x\n",
    "\n",
    "interact(func,x=(-2.2,2,0.1)) "
   ]
  },
  {
   "cell_type": "code",
   "execution_count": 58,
   "metadata": {},
   "outputs": [
    {
     "data": {
      "application/vnd.jupyter.widget-view+json": {
       "model_id": "647230b9968646af8132542a2f02072e",
       "version_major": 2,
       "version_minor": 0
      },
      "text/plain": [
       "IntSlider(value=0)"
      ]
     },
     "metadata": {},
     "output_type": "display_data"
    }
   ],
   "source": [
    "from IPython.display import display\n",
    "import ipywidgets as widgets\n",
    "\n",
    "w = widgets.IntSlider()\n",
    "display(w)"
   ]
  },
  {
   "cell_type": "code",
   "execution_count": 59,
   "metadata": {},
   "outputs": [
    {
     "data": {
      "application/vnd.jupyter.widget-view+json": {
       "model_id": "647230b9968646af8132542a2f02072e",
       "version_major": 2,
       "version_minor": 0
      },
      "text/plain": [
       "IntSlider(value=100)"
      ]
     },
     "metadata": {},
     "output_type": "display_data"
    }
   ],
   "source": [
    "display(w)  # this widget works in sync with above widget"
   ]
  },
  {
   "cell_type": "code",
   "execution_count": 60,
   "metadata": {},
   "outputs": [
    {
     "data": {
      "text/plain": [
       "100"
      ]
     },
     "execution_count": 60,
     "metadata": {},
     "output_type": "execute_result"
    }
   ],
   "source": [
    "w.value # return current selected value of slider"
   ]
  },
  {
   "cell_type": "code",
   "execution_count": 61,
   "metadata": {},
   "outputs": [
    {
     "data": {
      "application/vnd.jupyter.widget-view+json": {
       "model_id": "e6c9ca8dcbc0451d9b35a6e8cc6153ad",
       "version_major": 2,
       "version_minor": 0
      },
      "text/plain": [
       "FloatText(value=0.0)"
      ]
     },
     "metadata": {},
     "output_type": "display_data"
    },
    {
     "data": {
      "application/vnd.jupyter.widget-view+json": {
       "model_id": "62b9b2ec9c38473badce7837b1eddd4a",
       "version_major": 2,
       "version_minor": 0
      },
      "text/plain": [
       "FloatSlider(value=0.0)"
      ]
     },
     "metadata": {},
     "output_type": "display_data"
    }
   ],
   "source": [
    "a = widgets.FloatText()\n",
    "b = widgets.FloatSlider()\n",
    "\n",
    "mylink = widgets.jslink((a, 'value'),(b, 'value'))   # here both widgets are linked so the change in slider\n",
    "                                                     # will reflect in float text widget\n",
    "display(a,b)\n",
    "\n",
    "# mylink.unlink()  This will unlink abov linkage"
   ]
  },
  {
   "cell_type": "code",
   "execution_count": 62,
   "metadata": {},
   "outputs": [
    {
     "name": "stdout",
     "output_type": "stream",
     "text": [
      "('@jupyter-widgets/base', '1.2.0', 'LayoutModel', '@jupyter-widgets/base', '1.2.0', 'LayoutView')\n",
      "('@jupyter-widgets/controls', '1.5.0', 'AccordionModel', '@jupyter-widgets/controls', '1.5.0', 'AccordionView')\n",
      "('@jupyter-widgets/controls', '1.5.0', 'AudioModel', '@jupyter-widgets/controls', '1.5.0', 'AudioView')\n",
      "('@jupyter-widgets/controls', '1.5.0', 'BoundedFloatTextModel', '@jupyter-widgets/controls', '1.5.0', 'FloatTextView')\n",
      "('@jupyter-widgets/controls', '1.5.0', 'BoundedIntTextModel', '@jupyter-widgets/controls', '1.5.0', 'IntTextView')\n",
      "('@jupyter-widgets/controls', '1.5.0', 'BoxModel', '@jupyter-widgets/controls', '1.5.0', 'BoxView')\n",
      "('@jupyter-widgets/controls', '1.5.0', 'ButtonModel', '@jupyter-widgets/controls', '1.5.0', 'ButtonView')\n",
      "('@jupyter-widgets/controls', '1.5.0', 'ButtonStyleModel', '@jupyter-widgets/base', '1.2.0', 'StyleView')\n",
      "('@jupyter-widgets/controls', '1.5.0', 'CheckboxModel', '@jupyter-widgets/controls', '1.5.0', 'CheckboxView')\n",
      "('@jupyter-widgets/controls', '1.5.0', 'ColorPickerModel', '@jupyter-widgets/controls', '1.5.0', 'ColorPickerView')\n",
      "('@jupyter-widgets/controls', '1.5.0', 'ComboboxModel', '@jupyter-widgets/controls', '1.5.0', 'ComboboxView')\n",
      "('@jupyter-widgets/controls', '1.5.0', 'ControllerAxisModel', '@jupyter-widgets/controls', '1.5.0', 'ControllerAxisView')\n",
      "('@jupyter-widgets/controls', '1.5.0', 'ControllerButtonModel', '@jupyter-widgets/controls', '1.5.0', 'ControllerButtonView')\n",
      "('@jupyter-widgets/controls', '1.5.0', 'ControllerModel', '@jupyter-widgets/controls', '1.5.0', 'ControllerView')\n",
      "('@jupyter-widgets/controls', '1.5.0', 'DOMWidgetModel', '@jupyter-widgets/controls', '1.5.0', None)\n",
      "('@jupyter-widgets/controls', '1.5.0', 'DatePickerModel', '@jupyter-widgets/controls', '1.5.0', 'DatePickerView')\n",
      "('@jupyter-widgets/controls', '1.5.0', 'DescriptionStyleModel', '@jupyter-widgets/base', '1.2.0', 'StyleView')\n",
      "('@jupyter-widgets/controls', '1.5.0', 'DirectionalLinkModel', '@jupyter-widgets/controls', '1.5.0', None)\n",
      "('@jupyter-widgets/controls', '1.5.0', 'DropdownModel', '@jupyter-widgets/controls', '1.5.0', 'DropdownView')\n",
      "('@jupyter-widgets/controls', '1.5.0', 'FileUploadModel', '@jupyter-widgets/controls', '1.5.0', 'FileUploadView')\n",
      "('@jupyter-widgets/controls', '1.5.0', 'FloatLogSliderModel', '@jupyter-widgets/controls', '1.5.0', 'FloatLogSliderView')\n",
      "('@jupyter-widgets/controls', '1.5.0', 'FloatProgressModel', '@jupyter-widgets/controls', '1.5.0', 'ProgressView')\n",
      "('@jupyter-widgets/controls', '1.5.0', 'FloatRangeSliderModel', '@jupyter-widgets/controls', '1.5.0', 'FloatRangeSliderView')\n",
      "('@jupyter-widgets/controls', '1.5.0', 'FloatSliderModel', '@jupyter-widgets/controls', '1.5.0', 'FloatSliderView')\n",
      "('@jupyter-widgets/controls', '1.5.0', 'FloatTextModel', '@jupyter-widgets/controls', '1.5.0', 'FloatTextView')\n",
      "('@jupyter-widgets/controls', '1.5.0', 'GridBoxModel', '@jupyter-widgets/controls', '1.5.0', 'GridBoxView')\n",
      "('@jupyter-widgets/controls', '1.5.0', 'HBoxModel', '@jupyter-widgets/controls', '1.5.0', 'HBoxView')\n",
      "('@jupyter-widgets/controls', '1.5.0', 'HTMLMathModel', '@jupyter-widgets/controls', '1.5.0', 'HTMLMathView')\n",
      "('@jupyter-widgets/controls', '1.5.0', 'HTMLModel', '@jupyter-widgets/controls', '1.5.0', 'HTMLView')\n",
      "('@jupyter-widgets/controls', '1.5.0', 'ImageModel', '@jupyter-widgets/controls', '1.5.0', 'ImageView')\n",
      "('@jupyter-widgets/controls', '1.5.0', 'IntProgressModel', '@jupyter-widgets/controls', '1.5.0', 'ProgressView')\n",
      "('@jupyter-widgets/controls', '1.5.0', 'IntRangeSliderModel', '@jupyter-widgets/controls', '1.5.0', 'IntRangeSliderView')\n",
      "('@jupyter-widgets/controls', '1.5.0', 'IntSliderModel', '@jupyter-widgets/controls', '1.5.0', 'IntSliderView')\n",
      "('@jupyter-widgets/controls', '1.5.0', 'IntTextModel', '@jupyter-widgets/controls', '1.5.0', 'IntTextView')\n",
      "('@jupyter-widgets/controls', '1.5.0', 'LabelModel', '@jupyter-widgets/controls', '1.5.0', 'LabelView')\n",
      "('@jupyter-widgets/controls', '1.5.0', 'LinkModel', '@jupyter-widgets/controls', '1.5.0', None)\n",
      "('@jupyter-widgets/controls', '1.5.0', 'PasswordModel', '@jupyter-widgets/controls', '1.5.0', 'PasswordView')\n",
      "('@jupyter-widgets/controls', '1.5.0', 'PlayModel', '@jupyter-widgets/controls', '1.5.0', 'PlayView')\n",
      "('@jupyter-widgets/controls', '1.5.0', 'ProgressStyleModel', '@jupyter-widgets/base', '1.2.0', 'StyleView')\n",
      "('@jupyter-widgets/controls', '1.5.0', 'RadioButtonsModel', '@jupyter-widgets/controls', '1.5.0', 'RadioButtonsView')\n",
      "('@jupyter-widgets/controls', '1.5.0', 'SelectModel', '@jupyter-widgets/controls', '1.5.0', 'SelectView')\n",
      "('@jupyter-widgets/controls', '1.5.0', 'SelectMultipleModel', '@jupyter-widgets/controls', '1.5.0', 'SelectMultipleView')\n",
      "('@jupyter-widgets/controls', '1.5.0', 'SelectionRangeSliderModel', '@jupyter-widgets/controls', '1.5.0', 'SelectionRangeSliderView')\n",
      "('@jupyter-widgets/controls', '1.5.0', 'SelectionSliderModel', '@jupyter-widgets/controls', '1.5.0', 'SelectionSliderView')\n",
      "('@jupyter-widgets/controls', '1.5.0', 'SliderStyleModel', '@jupyter-widgets/base', '1.2.0', 'StyleView')\n",
      "('@jupyter-widgets/controls', '1.5.0', 'TabModel', '@jupyter-widgets/controls', '1.5.0', 'TabView')\n",
      "('@jupyter-widgets/controls', '1.5.0', 'TextModel', '@jupyter-widgets/controls', '1.5.0', 'TextView')\n",
      "('@jupyter-widgets/controls', '1.5.0', 'TextareaModel', '@jupyter-widgets/controls', '1.5.0', 'TextareaView')\n",
      "('@jupyter-widgets/controls', '1.5.0', 'ToggleButtonModel', '@jupyter-widgets/controls', '1.5.0', 'ToggleButtonView')\n",
      "('@jupyter-widgets/controls', '1.5.0', 'ToggleButtonsModel', '@jupyter-widgets/controls', '1.5.0', 'ToggleButtonsView')\n",
      "('@jupyter-widgets/controls', '1.5.0', 'ToggleButtonsStyleModel', '@jupyter-widgets/base', '1.2.0', 'StyleView')\n",
      "('@jupyter-widgets/controls', '1.5.0', 'VBoxModel', '@jupyter-widgets/controls', '1.5.0', 'VBoxView')\n",
      "('@jupyter-widgets/controls', '1.5.0', 'ValidModel', '@jupyter-widgets/controls', '1.5.0', 'ValidView')\n",
      "('@jupyter-widgets/controls', '1.5.0', 'VideoModel', '@jupyter-widgets/controls', '1.5.0', 'VideoView')\n",
      "('@jupyter-widgets/output', '1.0.0', 'OutputModel', '@jupyter-widgets/output', '1.0.0', 'OutputView')\n"
     ]
    }
   ],
   "source": [
    "for item in widgets.Widget.widget_types.items():\n",
    "    print(item[0])  # This will print all available widgets\n",
    "    "
   ]
  },
  {
   "cell_type": "code",
   "execution_count": 63,
   "metadata": {},
   "outputs": [
    {
     "data": {
      "application/vnd.jupyter.widget-view+json": {
       "model_id": "50b0a4570b474d1ab950d8b5b8b7cb4c",
       "version_major": 2,
       "version_minor": 0
      },
      "text/plain": [
       "Button(description='custom color', style=ButtonStyle(button_color='green'))"
      ]
     },
     "metadata": {},
     "output_type": "display_data"
    }
   ],
   "source": [
    "import ipywidgets as widgets\n",
    "from IPython.display import display\n",
    "\n",
    "b = widgets.Button(description='custom color')\n",
    "b.style.button_color = 'green'\n",
    "\n",
    "display(b)"
   ]
  },
  {
   "cell_type": "code",
   "execution_count": 64,
   "metadata": {},
   "outputs": [
    {
     "name": "stdout",
     "output_type": "stream",
     "text": [
      "i am dheeraj\n"
     ]
    }
   ],
   "source": [
    "print('i am {}'.format('dheeraj'))"
   ]
  },
  {
   "cell_type": "code",
   "execution_count": 70,
   "metadata": {},
   "outputs": [
    {
     "name": "stdout",
     "output_type": "stream",
     "text": [
      "place my variable here 3\n",
      "place my number here   12.12000\n"
     ]
    }
   ],
   "source": [
    "x = 3\n",
    "print('place my variable here %s'%(x))\n",
    "print('place my number here %10.5f'%(12.12))"
   ]
  },
  {
   "cell_type": "code",
   "execution_count": null,
   "metadata": {},
   "outputs": [],
   "source": [
    "# from __future__ import print_function  #This will import print function from python3 to python2."
   ]
  },
  {
   "cell_type": "code",
   "execution_count": 73,
   "metadata": {},
   "outputs": [
    {
     "data": {
      "text/plain": [
       "'This is sample file of dheeraj.\\nthis is new line.\\n'"
      ]
     },
     "execution_count": 73,
     "metadata": {},
     "output_type": "execute_result"
    }
   ],
   "source": [
    "f = open('test.txt')\n",
    "f.read()"
   ]
  },
  {
   "cell_type": "code",
   "execution_count": 74,
   "metadata": {},
   "outputs": [
    {
     "data": {
      "text/plain": [
       "['This is sample file of dheeraj.\\n', 'this is new line.\\n']"
      ]
     },
     "execution_count": 74,
     "metadata": {},
     "output_type": "execute_result"
    }
   ],
   "source": [
    "f.seek(0)\n",
    "f.readlines()"
   ]
  },
  {
   "cell_type": "code",
   "execution_count": 76,
   "metadata": {},
   "outputs": [
    {
     "name": "stdout",
     "output_type": "stream",
     "text": [
      "['d', 'h', 'e', 'e', 'r', 'e', 'a', 'j']\n"
     ]
    }
   ],
   "source": [
    "# list comptehension\n",
    "\n",
    "string = 'dheereaj'\n",
    "l = [str for str in string]\n",
    "print(l)"
   ]
  },
  {
   "cell_type": "code",
   "execution_count": 78,
   "metadata": {},
   "outputs": [
    {
     "name": "stdout",
     "output_type": "stream",
     "text": [
      "[0, 2, 4, 6, 8, 10]\n"
     ]
    }
   ],
   "source": [
    "evenlst = [num for num in range(11) if num % 2 == 0]\n",
    "print(evenlst)"
   ]
  },
  {
   "cell_type": "raw",
   "metadata": {},
   "source": [
    "#lambda function\n",
    "def square(num):return num**2  \n",
    "\n",
    "above function is equivalent to \n",
    "\n",
    "lambda num:num**2"
   ]
  },
  {
   "cell_type": "code",
   "execution_count": 84,
   "metadata": {},
   "outputs": [
    {
     "name": "stdout",
     "output_type": "stream",
     "text": [
      "global var is= 50\n",
      "5\n"
     ]
    }
   ],
   "source": [
    "global_var = 50\n",
    "def scope_test():\n",
    "    global global_var   #line 3\n",
    "    print('global var is= '+ str(global_var) ) \n",
    "    global_var = 5  # if we comment line 3 then this statement will not work. \n",
    "\n",
    "scope_test()\n",
    "print (global_var)"
   ]
  },
  {
   "cell_type": "code",
   "execution_count": 85,
   "metadata": {},
   "outputs": [
    {
     "name": "stdout",
     "output_type": "stream",
     "text": [
      "6\n",
      "5\n"
     ]
    }
   ],
   "source": [
    "# using global keyword is not a good practice to have instead of that\n",
    "#you can change global value by assigning the return value from function to global variable\n",
    "\n",
    "global_var2 = 6\n",
    "def change_global():\n",
    "    return 5\n",
    "\n",
    "print(global_var2)\n",
    "global_var2 = change_global()\n",
    "print(global_var2)"
   ]
  },
  {
   "cell_type": "raw",
   "metadata": {},
   "source": [
    "try\n",
    "except <exception1>\n",
    "except <exception2>\n",
    "else # will execute if there is not exception\n",
    "finally # this will execute irrespectiev of exception triggered or not."
   ]
  },
  {
   "cell_type": "code",
   "execution_count": 91,
   "metadata": {},
   "outputs": [
    {
     "name": "stdout",
     "output_type": "stream",
     "text": [
      "init called\n",
      "mammel\n",
      "domestic\n"
     ]
    }
   ],
   "source": [
    "class dog:\n",
    "    species = 'mammel'   # class variable\n",
    "    \n",
    "    def __init__(self):\n",
    "        print('init called')\n",
    "        \n",
    "    typo = 'domestic'  # class variable\n",
    "        \n",
    "d = dog()\n",
    "print(dog.species)\n",
    "print(dog.typo)"
   ]
  },
  {
   "cell_type": "code",
   "execution_count": 97,
   "metadata": {},
   "outputs": [
    {
     "name": "stdout",
     "output_type": "stream",
     "text": [
      "I am normal function\n",
      "I am static function\n"
     ]
    }
   ],
   "source": [
    "class sheep:\n",
    "        def instance_func(self):\n",
    "            print('I am normal function')\n",
    "            \n",
    "        def static_function():\n",
    "            print('I am static function')\n",
    "            \n",
    "s = sheep()\n",
    "\n",
    "# sheep.instance_func() here self will not be passed as implicit argument because we are calling\n",
    "# instance_func() using class name so this call will give error.\n",
    "s.instance_func()  # Here self is passed as implicit argument\n",
    "\n",
    "# s.static_function() here we are passing self as implicit argument because we called static_function on object\n",
    "# and there is no receiver at function definition so this call will fail.\n",
    "sheep.static_function() "
   ]
  },
  {
   "cell_type": "code",
   "execution_count": 109,
   "metadata": {},
   "outputs": [
    {
     "name": "stdout",
     "output_type": "stream",
     "text": [
      "pig1 created\n",
      "animal2 make sound\n",
      "I am pig1\n",
      "I do oink1\n",
      "animal created\n",
      "pig2 created\n",
      "True\n",
      "animal make sound\n",
      "animal2 make sound\n",
      "I am pig2\n",
      "I do oink2\n"
     ]
    }
   ],
   "source": [
    "class animal(object):\n",
    "    def __init__(self):\n",
    "        self.exist = True\n",
    "        print('animal created')\n",
    "        \n",
    "    def whoami(self):\n",
    "        print('I am animal')\n",
    "        \n",
    "    def animalsound(self):\n",
    "        print(self.exist)\n",
    "        print('animal make sound')\n",
    "        \n",
    "    def animalsound2(self):\n",
    "        print('animal2 make sound')\n",
    "        \n",
    "class pig1(animal):\n",
    "    def __init__(self): \n",
    "        print('pig1 created')\n",
    "        \n",
    "    def whoami(self):\n",
    "        print('I am pig1')\n",
    "        \n",
    "    def oink(self):\n",
    "        print('I do oink1')\n",
    "        \n",
    "class pig2(animal):\n",
    "    def __init__(self): \n",
    "        animal.__init__(self)  # Initialisation function call 2\n",
    "        print('pig2 created')\n",
    "        \n",
    "    def whoami(self):\n",
    "        print('I am pig2')\n",
    "        \n",
    "    def oink(self):\n",
    "        print('I do oink2')\n",
    "        \n",
    "p1= pig1()\n",
    "# p1.animalsound()   pig1 __init__ function is not initializing animal base class by calling animal.__init__\n",
    "# function and animalsound(function) is referencing animal class attribute 'exist' which is not initialised.\n",
    "p1.animalsound2()\n",
    "p1.whoami()\n",
    "p1.oink()\n",
    "\n",
    "p2 = pig2()\n",
    "p2.animalsound()\n",
    "p2.animalsound2()\n",
    "p2.whoami()\n",
    "p2.oink()"
   ]
  },
  {
   "cell_type": "raw",
   "metadata": {},
   "source": [
    "Special methods\n",
    "__str__(self) : returns string which will be printed when print function is called on object of tha class.\n",
    "__len__(self) : returns length which will be printed when len() is called on object of the class.\n",
    "__del__(self) : returns string which will be printed when del function is called on object of tha class."
   ]
  },
  {
   "cell_type": "code",
   "execution_count": 114,
   "metadata": {},
   "outputs": [
    {
     "name": "stdout",
     "output_type": "stream",
     "text": [
      "<map object at 0x7f3d3e98a080>\n",
      "4\n",
      "9\n",
      "16\n",
      "25\n",
      "4\n",
      "9\n",
      "16\n",
      "25\n"
     ]
    }
   ],
   "source": [
    "#map function\n",
    "\n",
    "def square(num):\n",
    "    return num**2\n",
    "\n",
    "num_list = [2,3,4,5]\n",
    "print (map(square,num_list))  # map return iterable object and we need to iterate through it\n",
    "\n",
    "for num in map(square,num_list):\n",
    "    print(num)\n",
    "    \n",
    "# we will now replace square function with its lambda\n",
    "for num in map(lambda x: x**2, num_list):\n",
    "    print(num)"
   ]
  },
  {
   "cell_type": "code",
   "execution_count": 136,
   "metadata": {},
   "outputs": [
    {
     "name": "stdout",
     "output_type": "stream",
     "text": [
      "6\n",
      "8\n",
      "10\n",
      "12\n",
      "14\n",
      "16\n"
     ]
    }
   ],
   "source": [
    "# filter function\n",
    "# Here first parameter is function which returns true/false.\n",
    "# second parameter is list. We pass each value for  list to function.\n",
    "# if function returns true then thata list value will be part of result list.\n",
    "\n",
    "def is_even(num):\n",
    "    return num %2 == 0\n",
    "\n",
    "filter_output = filter(is_even, range(5,20))  # we can replace is_even function with lambda also.\n",
    "print(next(filter_output))\n",
    "print(next(filter_output))\n",
    "print(next(filter_output))\n",
    "print(next(filter_output))\n",
    "print(next(filter_output))\n",
    "print(next(filter_output))"
   ]
  },
  {
   "cell_type": "code",
   "execution_count": 144,
   "metadata": {},
   "outputs": [
    {
     "name": "stdout",
     "output_type": "stream",
     "text": [
      "(1, 4, 7)\n",
      "(2, 5, 8)\n",
      "(3, 6, 9)\n"
     ]
    }
   ],
   "source": [
    "# zip : It creates pairs of elements\n",
    "a = [1,2,3]\n",
    "b = [4,5,6]\n",
    "c = [7,8,9,10,11]\n",
    "\n",
    "z = zip(a,b,c)\n",
    "for x in z:\n",
    "    print(x)"
   ]
  },
  {
   "cell_type": "code",
   "execution_count": 148,
   "metadata": {},
   "outputs": [
    {
     "name": "stdout",
     "output_type": "stream",
     "text": [
      "True\n",
      "True\n"
     ]
    }
   ],
   "source": [
    "#all() any()\n",
    "print(all([True,True,True]))  # return true when all values in list are true\n",
    "print(any([True,False,False]))  # return true when aany value in list is true"
   ]
  },
  {
   "cell_type": "code",
   "execution_count": 149,
   "metadata": {},
   "outputs": [
    {
     "name": "stdout",
     "output_type": "stream",
     "text": [
      "(0, 'a')\n",
      "(1, 'b')\n",
      "(2, 'c')\n"
     ]
    }
   ],
   "source": [
    "#enumerate : It put index against list item\n",
    "\n",
    "for num in enumerate(['a','b','c']):\n",
    "    print(num)"
   ]
  },
  {
   "cell_type": "raw",
   "metadata": {},
   "source": [
    "globals() lists global variable available in current context\n",
    "locals() lists local variables in current context"
   ]
  },
  {
   "cell_type": "code",
   "execution_count": 118,
   "metadata": {},
   "outputs": [
    {
     "name": "stdout",
     "output_type": "stream",
     "text": [
      "logging before function call\n",
      "I am original function\n",
      "logging after function call\n"
     ]
    }
   ],
   "source": [
    "def decorator2(original_func):\n",
    "    \n",
    "    def returnable_function():\n",
    "        print('logging before function call')\n",
    "        original_func()\n",
    "        print('logging after function call')\n",
    "        \n",
    "    return returnable_function\n",
    "\n",
    "@decorator2  # this line will pass original_func to decorator2 and call function returned from decorator2\n",
    "def original_func():\n",
    "    print('I am original function')\n",
    "    \n",
    "original_func()    "
   ]
  },
  {
   "cell_type": "code",
   "execution_count": 120,
   "metadata": {},
   "outputs": [
    {
     "name": "stdout",
     "output_type": "stream",
     "text": [
      "logging before function call\n",
      "I am original function\n",
      "logging after function call\n"
     ]
    }
   ],
   "source": [
    "# if we want to do above decortion thing without macro then we can do likebelow\n",
    "\n",
    "def decorator2(original_func):\n",
    "    \n",
    "    def returnable_function():\n",
    "        print('logging before function call')\n",
    "        original_func()\n",
    "        print('logging after function call')\n",
    "        \n",
    "    return returnable_function\n",
    "\n",
    "def original_func():\n",
    "    print('I am original function')\n",
    "    \n",
    "\n",
    "original_func = decorator2(original_func)\n",
    "original_func()"
   ]
  },
  {
   "cell_type": "code",
   "execution_count": 121,
   "metadata": {},
   "outputs": [
    {
     "name": "stdout",
     "output_type": "stream",
     "text": [
      "4\n",
      "9\n",
      "16\n",
      "25\n",
      "36\n",
      "49\n",
      "64\n"
     ]
    }
   ],
   "source": [
    "#generater function\n",
    "\n",
    "def square_generator():\n",
    "    for num in range(2,9):\n",
    "        yield num**2    # this call will not wait till all numbers from 2-9 are processed.\n",
    "                        # It will return result as and when each number from 2-9 is procesed\n",
    "\n",
    "for x in square_generator():\n",
    "    print(x)"
   ]
  },
  {
   "cell_type": "code",
   "execution_count": 129,
   "metadata": {},
   "outputs": [
    {
     "name": "stdout",
     "output_type": "stream",
     "text": [
      "4\n",
      "9\n",
      "16\n",
      "25\n",
      "36\n",
      "49\n",
      "64\n"
     ]
    },
    {
     "ename": "StopIteration",
     "evalue": "",
     "output_type": "error",
     "traceback": [
      "\u001b[0;31m---------------------------------------------------------------------------\u001b[0m",
      "\u001b[0;31mStopIteration\u001b[0m                             Traceback (most recent call last)",
      "\u001b[0;32m<ipython-input-129-5ed8e07dbb5d>\u001b[0m in \u001b[0;36m<module>\u001b[0;34m\u001b[0m\n\u001b[1;32m     13\u001b[0m \u001b[0mprint\u001b[0m\u001b[0;34m(\u001b[0m\u001b[0mnext\u001b[0m\u001b[0;34m(\u001b[0m\u001b[0msq_gen\u001b[0m\u001b[0;34m)\u001b[0m\u001b[0;34m)\u001b[0m\u001b[0;34m\u001b[0m\u001b[0m\n\u001b[1;32m     14\u001b[0m \u001b[0mprint\u001b[0m\u001b[0;34m(\u001b[0m\u001b[0mnext\u001b[0m\u001b[0;34m(\u001b[0m\u001b[0msq_gen\u001b[0m\u001b[0;34m)\u001b[0m\u001b[0;34m)\u001b[0m\u001b[0;34m\u001b[0m\u001b[0m\n\u001b[0;32m---> 15\u001b[0;31m \u001b[0mprint\u001b[0m\u001b[0;34m(\u001b[0m\u001b[0mnext\u001b[0m\u001b[0;34m(\u001b[0m\u001b[0msq_gen\u001b[0m\u001b[0;34m)\u001b[0m\u001b[0;34m)\u001b[0m\u001b[0;34m\u001b[0m\u001b[0m\n\u001b[0m",
      "\u001b[0;31mStopIteration\u001b[0m: "
     ]
    }
   ],
   "source": [
    "#generater function\n",
    "\n",
    "def square_generator():\n",
    "    for num in range(2,9):\n",
    "        yield num**2    # this call will not wait till all numbers from 2-9 are processed.\n",
    "                        # It will return result as and when each number from 2-9 is procesed\n",
    "sq_gen = square_generator()\n",
    "print(next(sq_gen))\n",
    "print(next(sq_gen))\n",
    "print(next(sq_gen))\n",
    "print(next(sq_gen))\n",
    "print(next(sq_gen))\n",
    "print(next(sq_gen))\n",
    "print(next(sq_gen))\n",
    "print(next(sq_gen))  # Here yield stop returning values so exception is thrown "
   ]
  },
  {
   "cell_type": "code",
   "execution_count": 122,
   "metadata": {},
   "outputs": [
    {
     "ename": "TypeError",
     "evalue": "'type' object is not iterable",
     "output_type": "error",
     "traceback": [
      "\u001b[0;31m---------------------------------------------------------------------------\u001b[0m",
      "\u001b[0;31mTypeError\u001b[0m                                 Traceback (most recent call last)",
      "\u001b[0;32m<ipython-input-122-55d4d2598d75>\u001b[0m in \u001b[0;36m<module>\u001b[0;34m\u001b[0m\n\u001b[1;32m      1\u001b[0m \u001b[0mstr1\u001b[0m \u001b[0;34m=\u001b[0m \u001b[0;34m'dheeraj'\u001b[0m\u001b[0;34m\u001b[0m\u001b[0m\n\u001b[0;32m----> 2\u001b[0;31m \u001b[0mstr1_iter\u001b[0m \u001b[0;34m=\u001b[0m \u001b[0miter\u001b[0m\u001b[0;34m(\u001b[0m\u001b[0mstr\u001b[0m\u001b[0;34m)\u001b[0m\u001b[0;34m\u001b[0m\u001b[0m\n\u001b[0m\u001b[1;32m      3\u001b[0m \u001b[0mnext\u001b[0m\u001b[0;34m(\u001b[0m\u001b[0mstr1\u001b[0m\u001b[0;34m)\u001b[0m\u001b[0;34m\u001b[0m\u001b[0m\n",
      "\u001b[0;31mTypeError\u001b[0m: 'type' object is not iterable"
     ]
    }
   ],
   "source": [
    "str1 = 'dheeraj'\n",
    "str1_iter = iter(str)\n",
    "next(str1)"
   ]
  },
  {
   "cell_type": "code",
   "execution_count": null,
   "metadata": {},
   "outputs": [],
   "source": []
  }
 ],
 "metadata": {
  "kernelspec": {
   "display_name": "Python 3",
   "language": "python",
   "name": "python3"
  },
  "language_info": {
   "codemirror_mode": {
    "name": "ipython",
    "version": 3
   },
   "file_extension": ".py",
   "mimetype": "text/x-python",
   "name": "python",
   "nbconvert_exporter": "python",
   "pygments_lexer": "ipython3",
   "version": "3.5.2"
  }
 },
 "nbformat": 4,
 "nbformat_minor": 2
}
